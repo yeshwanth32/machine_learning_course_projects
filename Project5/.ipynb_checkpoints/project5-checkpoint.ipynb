{
 "cells": [
  {
   "cell_type": "markdown",
   "metadata": {},
   "source": [
    "Submit a Jupyter notebook containing Python code that trains two different models, each using different learning algorithm, and compares the performance of the two learning algorithms and/or the two learned models.\n",
    "\n",
    "At least one of your models must be produced either by logistic regression or by a support vector machine (SVM). You could compare logistic regression to SVM, or you could compare one of these to a perceptron or Adaline model. You may use the scikit-learn implementations of the models, or the \"from scratch\" implementations presented in our textbook and in class, or implementations that you write yourself.\n",
    "\n",
    "The dataset that you use must include at least 500 instances. Note that some of the datasets included in scikit-learn meet this requirement, and it is fine to use one of those. You may use a dataset that you used in a previous assignment, if it includes at least 500 instances, and you may also use the same dataset as a fellow student, as long as you don't use the same dataset and perform the same comparisons as anyone else in the class, as far as you know.\n",
    "\n",
    "For this assignment you must split your data into training and testing sets, and show how your trained models perform on each. Possible criteria for comparison include accuracy on the test set, convergence time, and robustness to changes in parameters, but this is not an exhaustive list; you should feel free to compare the algorithms/models in any meaningful way.\n",
    "\n",
    "Be sure to include the following information in markdown cells in your notebook:\n",
    "\n",
    "A description of the data that you are using\n",
    "\n",
    "A description of classification task that you are training your models to perform\n",
    "\n",
    "The two learning algorithms that you have compared\n",
    "\n",
    "A description of the basis on which you compared them\n",
    "\n",
    "The results of the comparison\n",
    "\n",
    "You are encouraged to collaborate with classmates in completing this assignment, but you should acknowledge all help that you have received in your notebook file.\n",
    "\n",
    "You can assume that your code will be run in a Python 3.8 environment in which numpy, matplotlib, pandas, and scikit-learn have been installed. Do not assume or require the installation of any other libraries.\n",
    "\n",
    "Your should submit your notebook (.ipynb) file, your data file (probably a .csv file), and any other files that your code requires."
   ]
  },
  {
   "cell_type": "markdown",
   "metadata": {},
   "source": [
    "This project is a comparision between a support vector machine (SVM) vs Perceptron vs Logistic regression"
   ]
  },
  {
   "cell_type": "code",
   "execution_count": 207,
   "metadata": {},
   "outputs": [],
   "source": [
    "from sklearn.linear_model import Perceptron\n",
    "from sklearn import svm\n",
    "from sklearn.linear_model import LogisticRegression\n",
    "from sklearn.model_selection import train_test_split\n",
    "from sklearn.preprocessing import StandardScaler\n",
    "import pandas as pd\n",
    "import matplotlib.pyplot as plt\n",
    "import numpy as np"
   ]
  },
  {
   "cell_type": "markdown",
   "metadata": {},
   "source": [
    "The data we are using is from a stock market dataset. X1 is the opening value of the stock and X2 is the highest trading price that day. The two stocks we are using are microsoft and tesla. Tesla is 1 and Microsoft is 0"
   ]
  },
  {
   "cell_type": "code",
   "execution_count": 208,
   "metadata": {},
   "outputs": [
    {
     "name": "stdout",
     "output_type": "stream",
     "text": [
      "           Open        High  type\n",
      "0     29.280001   29.889999     1\n",
      "1     83.660004   83.940002     0\n",
      "2     27.660000   28.770000     1\n",
      "3     20.610001   21.000000     1\n",
      "4     28.020000   28.059999     1\n",
      "..          ...         ...   ...\n",
      "495  109.419998  109.690002     0\n",
      "496   93.300003   93.660004     0\n",
      "497   32.570000   33.990002     1\n",
      "498  103.599998  104.430000     0\n",
      "499   95.139999   95.449997     0\n",
      "\n",
      "[500 rows x 3 columns]\n"
     ]
    }
   ],
   "source": [
    "train = pd.read_csv(\"stock_test.csv\", nrows=500)\n",
    "print(train)\n",
    "\n",
    "a = train.to_numpy()\n",
    "\n",
    "X = a[:, [0, 1]]\n",
    "\n",
    "y = a[:, 2]\n",
    "y=y.astype('int')\n",
    "\n",
    "X_train, X_test, y_train, y_test = train_test_split(\n",
    "    X, y, test_size=0.3, random_state=1, stratify=y)\n",
    "\n",
    "sc = StandardScaler()\n",
    "sc.fit(X_train) ## Note that we standard only on the basis of the training set\n",
    "X_train_std = sc.transform(X_train)\n",
    "X_test_std = sc.transform(X_test)\n",
    "\n",
    "X_combined_std = np.vstack((X_train_std, X_test_std))\n",
    "y_combined = np.hstack((y_train, y_test))"
   ]
  },
  {
   "cell_type": "code",
   "execution_count": 209,
   "metadata": {},
   "outputs": [],
   "source": [
    "from matplotlib.colors import ListedColormap\n",
    "import matplotlib.pyplot as plt\n",
    "\n",
    "def plot_decision_regions(X, y, classifier, test_idx=None, resolution=0.02):\n",
    "\n",
    "    # setup marker generator and color map\n",
    "    markers = ('s', 'x', 'o', '^', 'v')\n",
    "    colors = ('red', 'blue', 'lightgreen', 'gray', 'cyan')\n",
    "    cmap = ListedColormap(colors[:len(np.unique(y))])\n",
    "\n",
    "    # plot the decision surface\n",
    "    x1_min, x1_max = X[:, 0].min() - 1, X[:, 0].max() + 1\n",
    "    x2_min, x2_max = X[:, 1].min() - 1, X[:, 1].max() + 1\n",
    "    xx1, xx2 = np.meshgrid(np.arange(x1_min, x1_max, resolution),\n",
    "                           np.arange(x2_min, x2_max, resolution))\n",
    "    Z = classifier.predict(np.array([xx1.ravel(), xx2.ravel()]).T)\n",
    "    Z = Z.reshape(xx1.shape)\n",
    "    plt.contourf(xx1, xx2, Z, alpha=0.3, cmap=cmap)\n",
    "    plt.xlim(xx1.min(), xx1.max())\n",
    "    plt.ylim(xx2.min(), xx2.max())\n",
    "\n",
    "    for idx, cl in enumerate(np.unique(y)):\n",
    "        plt.scatter(x=X[y == cl, 0], \n",
    "                    y=X[y == cl, 1],\n",
    "                    alpha=0.8, \n",
    "                    c=colors[idx],\n",
    "                    marker=markers[idx], \n",
    "                    label=cl, \n",
    "                    edgecolor='black')\n",
    "\n",
    "    # highlight test examples\n",
    "    if test_idx:\n",
    "        # plot all examples\n",
    "        X_test, y_test = X[test_idx, :], y[test_idx]\n",
    "\n",
    "        plt.scatter(X_test[:, 0],\n",
    "                    X_test[:, 1],\n",
    "                    c=[], #c='', ## CHANGED TO AVOID A WARNING\n",
    "                    edgecolor='black',\n",
    "                    alpha=1.0,\n",
    "                    linewidth=1,\n",
    "                    marker='o',\n",
    "                    s=100, \n",
    "                    label='test set')"
   ]
  },
  {
   "cell_type": "markdown",
   "metadata": {},
   "source": [
    "We are training the classifiers to preditct if the stock is either Tesla(1) or Microsoft(0) based on the opening and high price."
   ]
  },
  {
   "cell_type": "code",
   "execution_count": 210,
   "metadata": {},
   "outputs": [
    {
     "data": {
      "image/png": "[encoded data removed]",
      "text/plain": [
       "<Figure size 432x288 with 1 Axes>"
      ]
     },
     "metadata": {
      "needs_background": "light"
     },
     "output_type": "display_data"
    },
    {
     "name": "stdout",
     "output_type": "stream",
     "text": [
      "Misclassified examples: 13\n"
     ]
    }
   ],
   "source": [
    "from sklearn.linear_model import LogisticRegression\n",
    "\n",
    "lr = LogisticRegression(C=2000, random_state=5, solver='lbfgs')\n",
    "lr.fit(X_train_std, y_train)\n",
    "\n",
    "plot_decision_regions(X_test_std, y_test,\n",
    "                     classifier=lr)\n",
    "plt.xlabel('open')\n",
    "plt.ylabel('high')\n",
    "plt.legend(loc='upper left')\n",
    "plt.tight_layout()\n",
    "plt.show()\n",
    "\n",
    "y_pred = lr.predict(X_test_std)\n",
    "print('Misclassified examples: %d' % (y_test != y_pred).sum())\n"
   ]
  },
  {
   "cell_type": "code",
   "execution_count": 211,
   "metadata": {},
   "outputs": [
    {
     "data": {
      "image/png": "[encoded data removed]",
      "text/plain": [
       "<Figure size 432x288 with 1 Axes>"
      ]
     },
     "metadata": {
      "needs_background": "light"
     },
     "output_type": "display_data"
    },
    {
     "name": "stdout",
     "output_type": "stream",
     "text": [
      "Misclassified examples: 13\n"
     ]
    }
   ],
   "source": [
    "from sklearn.linear_model import Perceptron\n",
    "\n",
    "ppn = Perceptron(eta0=0.01, random_state=1)\n",
    "ppn.fit(X_train_std, y_train)\n",
    "\n",
    "plot_decision_regions(X_test_std, y_test,\n",
    "                     classifier=ppn)\n",
    "plt.xlabel('open')\n",
    "plt.ylabel('high')\n",
    "plt.legend(loc='upper left')\n",
    "plt.tight_layout()\n",
    "plt.show()\n",
    "\n",
    "y_pred = ppn.predict(X_test_std)\n",
    "print('Misclassified examples: %d' % (y_test != y_pred).sum())"
   ]
  },
  {
   "cell_type": "code",
   "execution_count": 212,
   "metadata": {},
   "outputs": [
    {
     "data": {
      "image/png": "[encoded data removed]",
      "text/plain": [
       "<Figure size 432x288 with 1 Axes>"
      ]
     },
     "metadata": {
      "needs_background": "light"
     },
     "output_type": "display_data"
    },
    {
     "name": "stdout",
     "output_type": "stream",
     "text": [
      "Misclassified examples: 7\n"
     ]
    }
   ],
   "source": [
    "from sklearn.svm import SVC\n",
    "\n",
    "svm = SVC(kernel='rbf', random_state=1, gamma=1, C=100000.0)\n",
    "svm.fit(X_train_std, y_train)\n",
    "\n",
    "plot_decision_regions(X_test_std, y_test, \n",
    "                      classifier=svm)\n",
    "plt.xlabel('open')\n",
    "plt.ylabel('high')\n",
    "plt.legend(loc='upper left')\n",
    "plt.tight_layout()\n",
    "plt.show()\n",
    "\n",
    "y_pred = svm.predict(X_test_std)\n",
    "print('Misclassified examples: %d' % (y_test != y_pred).sum())"
   ]
  },
  {
   "cell_type": "markdown",
   "metadata": {},
   "source": [
    "As you can see linear regression misclassified 13 examples, perceptrons misclasified 13 examples and SVC misclassified 7 examples in the test set\n",
    "So for this dataset SVC is a better option"
   ]
  },
  {
   "cell_type": "code",
   "execution_count": null,
   "metadata": {},
   "outputs": [],
   "source": []
  }
 ],
 "metadata": {
  "kernelspec": {
   "display_name": "Python 3",
   "language": "python",
   "name": "python3"
  },
  "language_info": {
   "codemirror_mode": {
    "name": "ipython",
    "version": 3
   },
   "file_extension": ".py",
   "mimetype": "text/x-python",
   "name": "python",
   "nbconvert_exporter": "python",
   "pygments_lexer": "ipython3",
   "version": "3.7.4"
  }
 },
 "nbformat": 4,
 "nbformat_minor": 2
}
